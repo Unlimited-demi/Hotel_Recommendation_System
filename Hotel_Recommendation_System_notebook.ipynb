{
 "cells": [
  {
   "cell_type": "code",
   "execution_count": 1,
   "id": "773fac0f",
   "metadata": {},
   "outputs": [],
   "source": [
    "from nltk.corpus import stopwords\n",
    "from sklearn.feature_extraction.text import TfidfVectorizer\n",
    "from nltk.sentiment import SentimentIntensityAnalyzer\n",
    "from sklearn.metrics.pairwise import cosine_similarity\n",
    "import pandas as pd\n",
    "from IPython.display import display\n",
    "import ipywidgets as widgets\n",
    "import numpy as np\n",
    "from nltk.stem.wordnet import WordNetLemmatizer\n",
    "from ast import literal_eval\n",
    "from nltk.tokenize import word_tokenize\n",
    "import nltk"
   ]
  },
  {
   "cell_type": "markdown",
   "id": "c49ea045",
   "metadata": {},
   "source": [
    "Load the necessary libraries required for the notebook operations."
   ]
  },
  {
   "cell_type": "markdown",
   "id": "d2a0c493",
   "metadata": {},
   "source": [
    "# Hotel Recommendation System  with Machine Learning (NLP)"
   ]
  },
  {
   "cell_type": "markdown",
   "id": "6bbe6dc4",
   "metadata": {},
   "source": [
    "Load and display the first few rows of the hotel reviews dataset."
   ]
  },
  {
   "cell_type": "code",
   "execution_count": 2,
   "id": "3987f63e",
   "metadata": {},
   "outputs": [
    {
     "data": {
      "text/html": [
       "<div>\n",
       "<style scoped>\n",
       "    .dataframe tbody tr th:only-of-type {\n",
       "        vertical-align: middle;\n",
       "    }\n",
       "\n",
       "    .dataframe tbody tr th {\n",
       "        vertical-align: top;\n",
       "    }\n",
       "\n",
       "    .dataframe thead th {\n",
       "        text-align: right;\n",
       "    }\n",
       "</style>\n",
       "<table border=\"1\" class=\"dataframe\">\n",
       "  <thead>\n",
       "    <tr style=\"text-align: right;\">\n",
       "      <th></th>\n",
       "      <th>Hotel_Address</th>\n",
       "      <th>Additional_Number_of_Scoring</th>\n",
       "      <th>Review_Date</th>\n",
       "      <th>Average_Score</th>\n",
       "      <th>Hotel_Name</th>\n",
       "      <th>Reviewer_Nationality</th>\n",
       "      <th>Negative_Review</th>\n",
       "      <th>Review_Total_Negative_Word_Counts</th>\n",
       "      <th>Total_Number_of_Reviews</th>\n",
       "      <th>Positive_Review</th>\n",
       "      <th>Review_Total_Positive_Word_Counts</th>\n",
       "      <th>Total_Number_of_Reviews_Reviewer_Has_Given</th>\n",
       "      <th>Reviewer_Score</th>\n",
       "      <th>Tags</th>\n",
       "      <th>days_since_review</th>\n",
       "      <th>lat</th>\n",
       "      <th>lng</th>\n",
       "    </tr>\n",
       "  </thead>\n",
       "  <tbody>\n",
       "    <tr>\n",
       "      <th>0</th>\n",
       "      <td>s Gravesandestraat 55 Oost 1092 AA Amsterdam ...</td>\n",
       "      <td>194</td>\n",
       "      <td>8/3/2017</td>\n",
       "      <td>7.7</td>\n",
       "      <td>Hotel Arena</td>\n",
       "      <td>Russia</td>\n",
       "      <td>I am so angry that i made this post available...</td>\n",
       "      <td>397</td>\n",
       "      <td>1403</td>\n",
       "      <td>Only the park outside of the hotel was beauti...</td>\n",
       "      <td>11</td>\n",
       "      <td>7</td>\n",
       "      <td>2.9</td>\n",
       "      <td>[' Leisure trip ', ' Couple ', ' Duplex Double...</td>\n",
       "      <td>0 days</td>\n",
       "      <td>52.360576</td>\n",
       "      <td>4.915968</td>\n",
       "    </tr>\n",
       "    <tr>\n",
       "      <th>1</th>\n",
       "      <td>s Gravesandestraat 55 Oost 1092 AA Amsterdam ...</td>\n",
       "      <td>194</td>\n",
       "      <td>8/3/2017</td>\n",
       "      <td>7.7</td>\n",
       "      <td>Hotel Arena</td>\n",
       "      <td>Ireland</td>\n",
       "      <td>No Negative</td>\n",
       "      <td>0</td>\n",
       "      <td>1403</td>\n",
       "      <td>No real complaints the hotel was great great ...</td>\n",
       "      <td>105</td>\n",
       "      <td>7</td>\n",
       "      <td>7.5</td>\n",
       "      <td>[' Leisure trip ', ' Couple ', ' Duplex Double...</td>\n",
       "      <td>0 days</td>\n",
       "      <td>52.360576</td>\n",
       "      <td>4.915968</td>\n",
       "    </tr>\n",
       "    <tr>\n",
       "      <th>2</th>\n",
       "      <td>s Gravesandestraat 55 Oost 1092 AA Amsterdam ...</td>\n",
       "      <td>194</td>\n",
       "      <td>7/31/2017</td>\n",
       "      <td>7.7</td>\n",
       "      <td>Hotel Arena</td>\n",
       "      <td>Australia</td>\n",
       "      <td>Rooms are nice but for elderly a bit difficul...</td>\n",
       "      <td>42</td>\n",
       "      <td>1403</td>\n",
       "      <td>Location was good and staff were ok It is cut...</td>\n",
       "      <td>21</td>\n",
       "      <td>9</td>\n",
       "      <td>7.1</td>\n",
       "      <td>[' Leisure trip ', ' Family with young childre...</td>\n",
       "      <td>3 days</td>\n",
       "      <td>52.360576</td>\n",
       "      <td>4.915968</td>\n",
       "    </tr>\n",
       "    <tr>\n",
       "      <th>3</th>\n",
       "      <td>s Gravesandestraat 55 Oost 1092 AA Amsterdam ...</td>\n",
       "      <td>194</td>\n",
       "      <td>7/31/2017</td>\n",
       "      <td>7.7</td>\n",
       "      <td>Hotel Arena</td>\n",
       "      <td>United Kingdom</td>\n",
       "      <td>My room was dirty and I was afraid to walk ba...</td>\n",
       "      <td>210</td>\n",
       "      <td>1403</td>\n",
       "      <td>Great location in nice surroundings the bar a...</td>\n",
       "      <td>26</td>\n",
       "      <td>1</td>\n",
       "      <td>3.8</td>\n",
       "      <td>[' Leisure trip ', ' Solo traveler ', ' Duplex...</td>\n",
       "      <td>3 days</td>\n",
       "      <td>52.360576</td>\n",
       "      <td>4.915968</td>\n",
       "    </tr>\n",
       "    <tr>\n",
       "      <th>4</th>\n",
       "      <td>s Gravesandestraat 55 Oost 1092 AA Amsterdam ...</td>\n",
       "      <td>194</td>\n",
       "      <td>7/24/2017</td>\n",
       "      <td>7.7</td>\n",
       "      <td>Hotel Arena</td>\n",
       "      <td>New Zealand</td>\n",
       "      <td>You When I booked with your company on line y...</td>\n",
       "      <td>140</td>\n",
       "      <td>1403</td>\n",
       "      <td>Amazing location and building Romantic setting</td>\n",
       "      <td>8</td>\n",
       "      <td>3</td>\n",
       "      <td>6.7</td>\n",
       "      <td>[' Leisure trip ', ' Couple ', ' Suite ', ' St...</td>\n",
       "      <td>10 days</td>\n",
       "      <td>52.360576</td>\n",
       "      <td>4.915968</td>\n",
       "    </tr>\n",
       "  </tbody>\n",
       "</table>\n",
       "</div>"
      ],
      "text/plain": [
       "                                       Hotel_Address  \\\n",
       "0   s Gravesandestraat 55 Oost 1092 AA Amsterdam ...   \n",
       "1   s Gravesandestraat 55 Oost 1092 AA Amsterdam ...   \n",
       "2   s Gravesandestraat 55 Oost 1092 AA Amsterdam ...   \n",
       "3   s Gravesandestraat 55 Oost 1092 AA Amsterdam ...   \n",
       "4   s Gravesandestraat 55 Oost 1092 AA Amsterdam ...   \n",
       "\n",
       "   Additional_Number_of_Scoring Review_Date  Average_Score   Hotel_Name  \\\n",
       "0                           194    8/3/2017            7.7  Hotel Arena   \n",
       "1                           194    8/3/2017            7.7  Hotel Arena   \n",
       "2                           194   7/31/2017            7.7  Hotel Arena   \n",
       "3                           194   7/31/2017            7.7  Hotel Arena   \n",
       "4                           194   7/24/2017            7.7  Hotel Arena   \n",
       "\n",
       "  Reviewer_Nationality                                    Negative_Review  \\\n",
       "0              Russia    I am so angry that i made this post available...   \n",
       "1             Ireland                                         No Negative   \n",
       "2           Australia    Rooms are nice but for elderly a bit difficul...   \n",
       "3      United Kingdom    My room was dirty and I was afraid to walk ba...   \n",
       "4         New Zealand    You When I booked with your company on line y...   \n",
       "\n",
       "   Review_Total_Negative_Word_Counts  Total_Number_of_Reviews  \\\n",
       "0                                397                     1403   \n",
       "1                                  0                     1403   \n",
       "2                                 42                     1403   \n",
       "3                                210                     1403   \n",
       "4                                140                     1403   \n",
       "\n",
       "                                     Positive_Review  \\\n",
       "0   Only the park outside of the hotel was beauti...   \n",
       "1   No real complaints the hotel was great great ...   \n",
       "2   Location was good and staff were ok It is cut...   \n",
       "3   Great location in nice surroundings the bar a...   \n",
       "4    Amazing location and building Romantic setting    \n",
       "\n",
       "   Review_Total_Positive_Word_Counts  \\\n",
       "0                                 11   \n",
       "1                                105   \n",
       "2                                 21   \n",
       "3                                 26   \n",
       "4                                  8   \n",
       "\n",
       "   Total_Number_of_Reviews_Reviewer_Has_Given  Reviewer_Score  \\\n",
       "0                                           7             2.9   \n",
       "1                                           7             7.5   \n",
       "2                                           9             7.1   \n",
       "3                                           1             3.8   \n",
       "4                                           3             6.7   \n",
       "\n",
       "                                                Tags days_since_review  \\\n",
       "0  [' Leisure trip ', ' Couple ', ' Duplex Double...            0 days   \n",
       "1  [' Leisure trip ', ' Couple ', ' Duplex Double...            0 days   \n",
       "2  [' Leisure trip ', ' Family with young childre...            3 days   \n",
       "3  [' Leisure trip ', ' Solo traveler ', ' Duplex...            3 days   \n",
       "4  [' Leisure trip ', ' Couple ', ' Suite ', ' St...           10 days   \n",
       "\n",
       "         lat       lng  \n",
       "0  52.360576  4.915968  \n",
       "1  52.360576  4.915968  \n",
       "2  52.360576  4.915968  \n",
       "3  52.360576  4.915968  \n",
       "4  52.360576  4.915968  "
      ]
     },
     "execution_count": 2,
     "metadata": {},
     "output_type": "execute_result"
    }
   ],
   "source": [
    "df  = pd.read_csv('Hotel_Reviews.csv')\n",
    "df.head()"
   ]
  },
  {
   "cell_type": "markdown",
   "id": "bdcbe622",
   "metadata": {},
   "source": [
    "Standardize location names in the dataset to maintain consistency."
   ]
  },
  {
   "cell_type": "code",
   "execution_count": 3,
   "id": "ec0ead75",
   "metadata": {},
   "outputs": [
    {
     "name": "stdout",
     "output_type": "stream",
     "text": [
      "['Netherlands' 'UK' 'France' 'Spain' 'Italy' 'Austria']\n"
     ]
    }
   ],
   "source": [
    "df['Hotel_Address'] =df['Hotel_Address'].str.replace(\"United Kingdom\" , 'UK')\n",
    "df['Countries'] = df['Hotel_Address'].apply(lambda x : x.split(' ')[-1])\n",
    "print(df['Countries'].unique())"
   ]
  },
  {
   "cell_type": "markdown",
   "id": "a507bb61",
   "metadata": {},
   "source": [
    "Drop unnecessary columns from the dataset to focus on relevant data."
   ]
  },
  {
   "cell_type": "code",
   "execution_count": 4,
   "id": "c446f388",
   "metadata": {},
   "outputs": [],
   "source": [
    "df.drop(['Additional_Number_of_Scoring',\n",
    "       'Review_Date','Reviewer_Nationality',\n",
    "       'Negative_Review', 'Review_Total_Negative_Word_Counts',\n",
    "       'Total_Number_of_Reviews',\n",
    "       'Review_Total_Positive_Word_Counts',\n",
    "       'Total_Number_of_Reviews_Reviewer_Has_Given', 'Reviewer_Score',\n",
    "       'days_since_review', 'lat', 'lng'],axis = 1,inplace=True)"
   ]
  },
  {
   "cell_type": "code",
   "execution_count": 5,
   "id": "ee4810ad",
   "metadata": {},
   "outputs": [
    {
     "name": "stderr",
     "output_type": "stream",
     "text": [
      "C:\\Users\\USER\\AppData\\Local\\Temp\\ipykernel_5824\\2857634052.py:2: FutureWarning: Series.__getitem__ treating keys as positions is deprecated. In a future version, integer keys will always be treated as labels (consistent with DataFrame behavior). To access a value by position, use `ser.iloc[pos]`\n",
      "  column = column[0]\n"
     ]
    },
    {
     "data": {
      "text/html": [
       "<div>\n",
       "<style scoped>\n",
       "    .dataframe tbody tr th:only-of-type {\n",
       "        vertical-align: middle;\n",
       "    }\n",
       "\n",
       "    .dataframe tbody tr th {\n",
       "        vertical-align: top;\n",
       "    }\n",
       "\n",
       "    .dataframe thead th {\n",
       "        text-align: right;\n",
       "    }\n",
       "</style>\n",
       "<table border=\"1\" class=\"dataframe\">\n",
       "  <thead>\n",
       "    <tr style=\"text-align: right;\">\n",
       "      <th></th>\n",
       "      <th>Hotel_Address</th>\n",
       "      <th>Average_Score</th>\n",
       "      <th>Hotel_Name</th>\n",
       "      <th>Positive_Review</th>\n",
       "      <th>Tags</th>\n",
       "      <th>Countries</th>\n",
       "    </tr>\n",
       "  </thead>\n",
       "  <tbody>\n",
       "    <tr>\n",
       "      <th>0</th>\n",
       "      <td>s Gravesandestraat 55 Oost 1092 AA Amsterdam ...</td>\n",
       "      <td>7.7</td>\n",
       "      <td>Hotel Arena</td>\n",
       "      <td>Only the park outside of the hotel was beauti...</td>\n",
       "      <td>Leisure trip  Couple  Duplex Double Room  Sta...</td>\n",
       "      <td>Netherlands</td>\n",
       "    </tr>\n",
       "    <tr>\n",
       "      <th>1</th>\n",
       "      <td>s Gravesandestraat 55 Oost 1092 AA Amsterdam ...</td>\n",
       "      <td>7.7</td>\n",
       "      <td>Hotel Arena</td>\n",
       "      <td>No real complaints the hotel was great great ...</td>\n",
       "      <td>Leisure trip  Couple  Duplex Double Room  Sta...</td>\n",
       "      <td>Netherlands</td>\n",
       "    </tr>\n",
       "    <tr>\n",
       "      <th>2</th>\n",
       "      <td>s Gravesandestraat 55 Oost 1092 AA Amsterdam ...</td>\n",
       "      <td>7.7</td>\n",
       "      <td>Hotel Arena</td>\n",
       "      <td>Location was good and staff were ok It is cut...</td>\n",
       "      <td>Leisure trip  Family with young children  Dup...</td>\n",
       "      <td>Netherlands</td>\n",
       "    </tr>\n",
       "    <tr>\n",
       "      <th>3</th>\n",
       "      <td>s Gravesandestraat 55 Oost 1092 AA Amsterdam ...</td>\n",
       "      <td>7.7</td>\n",
       "      <td>Hotel Arena</td>\n",
       "      <td>Great location in nice surroundings the bar a...</td>\n",
       "      <td>Leisure trip  Solo traveler  Duplex Double Ro...</td>\n",
       "      <td>Netherlands</td>\n",
       "    </tr>\n",
       "    <tr>\n",
       "      <th>4</th>\n",
       "      <td>s Gravesandestraat 55 Oost 1092 AA Amsterdam ...</td>\n",
       "      <td>7.7</td>\n",
       "      <td>Hotel Arena</td>\n",
       "      <td>Amazing location and building Romantic setting</td>\n",
       "      <td>Leisure trip  Couple  Suite  Stayed 2 nights ...</td>\n",
       "      <td>Netherlands</td>\n",
       "    </tr>\n",
       "  </tbody>\n",
       "</table>\n",
       "</div>"
      ],
      "text/plain": [
       "                                       Hotel_Address  Average_Score  \\\n",
       "0   s Gravesandestraat 55 Oost 1092 AA Amsterdam ...            7.7   \n",
       "1   s Gravesandestraat 55 Oost 1092 AA Amsterdam ...            7.7   \n",
       "2   s Gravesandestraat 55 Oost 1092 AA Amsterdam ...            7.7   \n",
       "3   s Gravesandestraat 55 Oost 1092 AA Amsterdam ...            7.7   \n",
       "4   s Gravesandestraat 55 Oost 1092 AA Amsterdam ...            7.7   \n",
       "\n",
       "    Hotel_Name                                    Positive_Review  \\\n",
       "0  Hotel Arena   Only the park outside of the hotel was beauti...   \n",
       "1  Hotel Arena   No real complaints the hotel was great great ...   \n",
       "2  Hotel Arena   Location was good and staff were ok It is cut...   \n",
       "3  Hotel Arena   Great location in nice surroundings the bar a...   \n",
       "4  Hotel Arena    Amazing location and building Romantic setting    \n",
       "\n",
       "                                                Tags    Countries  \n",
       "0   Leisure trip  Couple  Duplex Double Room  Sta...  Netherlands  \n",
       "1   Leisure trip  Couple  Duplex Double Room  Sta...  Netherlands  \n",
       "2   Leisure trip  Family with young children  Dup...  Netherlands  \n",
       "3   Leisure trip  Solo traveler  Duplex Double Ro...  Netherlands  \n",
       "4   Leisure trip  Couple  Suite  Stayed 2 nights ...  Netherlands  "
      ]
     },
     "execution_count": 5,
     "metadata": {},
     "output_type": "execute_result"
    }
   ],
   "source": [
    "def impute(column):\n",
    "    column = column[0]\n",
    "    if (type(column) != list):\n",
    "        return ''.join(literal_eval(column))\n",
    "    else:\n",
    "        return column\n",
    "    \n",
    "df['Tags'] = df[['Tags']].apply(impute, axis = 1)\n",
    "df.head()"
   ]
  },
  {
   "cell_type": "markdown",
   "id": "bd75528e",
   "metadata": {},
   "source": [
    "Convert text data in 'Countries' and 'Tags' columns to lowercase for uniform processing."
   ]
  },
  {
   "cell_type": "code",
   "execution_count": 6,
   "id": "6d68c39e",
   "metadata": {},
   "outputs": [],
   "source": [
    "df['Countries'] = df['Countries'].str.lower()\n",
    "df['Tags'] = df['Tags'].str.lower()\n",
    "\n"
   ]
  },
  {
   "cell_type": "markdown",
   "id": "42e79c6c",
   "metadata": {},
   "source": [
    "Definition of the basic hotel recommendation function."
   ]
  },
  {
   "cell_type": "code",
   "execution_count": 7,
   "id": "5649a191",
   "metadata": {},
   "outputs": [],
   "source": [
    "def recommend_hotel(location, description):\n",
    "    description = description.lower()\n",
    "    word_tokenize(description)\n",
    "    stop_words = stopwords.words('english')\n",
    "    lemm = WordNetLemmatizer()\n",
    "    filtered  = {word for word in description if not word in stop_words}\n",
    "    filtered_set = set()\n",
    "    for fs in filtered:\n",
    "        filtered_set.add(lemm.lemmatize(fs))\n",
    "\n",
    "    country = df[df['Countries']==location.lower()]\n",
    "    country = country.set_index(np.arange(country.shape[0]))\n",
    "    list1 = []; list2 = []; cos = [];\n",
    "    for i in range(country.shape[0]):\n",
    "        temp_token = word_tokenize(country[\"Tags\"][i])\n",
    "        temp_set = [word for word in temp_token if not word in stop_words]\n",
    "        temp2_set = set()\n",
    "        for s in temp_set:\n",
    "            temp2_set.add(lemm.lemmatize(s))\n",
    "        vector = temp2_set.intersection(filtered_set)\n",
    "        cos.append(len(vector))\n",
    "    country['similarity']=cos\n",
    "    country = country.sort_values(by='similarity', ascending=False)\n",
    "    country.drop_duplicates(subset='Hotel_Name', keep='first', inplace=True)\n",
    "    country.sort_values('Average_Score', ascending=False, inplace=True)\n",
    "    country.reset_index(inplace=True)\n",
    "    return country[[\"Hotel_Name\", \"Average_Score\", \"Hotel_Address\"]].head()"
   ]
  },
  {
   "cell_type": "markdown",
   "id": "0dc931ed",
   "metadata": {},
   "source": [
    "Example usage of the basic recommendation function."
   ]
  },
  {
   "cell_type": "code",
   "execution_count": 8,
   "id": "7984d6ba",
   "metadata": {},
   "outputs": [
    {
     "data": {
      "text/html": [
       "<div>\n",
       "<style scoped>\n",
       "    .dataframe tbody tr th:only-of-type {\n",
       "        vertical-align: middle;\n",
       "    }\n",
       "\n",
       "    .dataframe tbody tr th {\n",
       "        vertical-align: top;\n",
       "    }\n",
       "\n",
       "    .dataframe thead th {\n",
       "        text-align: right;\n",
       "    }\n",
       "</style>\n",
       "<table border=\"1\" class=\"dataframe\">\n",
       "  <thead>\n",
       "    <tr style=\"text-align: right;\">\n",
       "      <th></th>\n",
       "      <th>Hotel_Name</th>\n",
       "      <th>Average_Score</th>\n",
       "      <th>Hotel_Address</th>\n",
       "    </tr>\n",
       "  </thead>\n",
       "  <tbody>\n",
       "    <tr>\n",
       "      <th>0</th>\n",
       "      <td>Waldorf Astoria Amsterdam</td>\n",
       "      <td>9.5</td>\n",
       "      <td>Herengracht 542 556 Amsterdam City Center 1017...</td>\n",
       "    </tr>\n",
       "    <tr>\n",
       "      <th>1</th>\n",
       "      <td>The Toren</td>\n",
       "      <td>9.4</td>\n",
       "      <td>Keizersgracht 164 Amsterdam City Center 1015 C...</td>\n",
       "    </tr>\n",
       "    <tr>\n",
       "      <th>2</th>\n",
       "      <td>Pillows Anna van den Vondel Amsterdam</td>\n",
       "      <td>9.4</td>\n",
       "      <td>Anna van den Vondelstraat 6 Oud West 1054 GZ A...</td>\n",
       "    </tr>\n",
       "    <tr>\n",
       "      <th>3</th>\n",
       "      <td>Canal House</td>\n",
       "      <td>9.3</td>\n",
       "      <td>Keizersgracht 148 Amsterdam City Center 1015 C...</td>\n",
       "    </tr>\n",
       "    <tr>\n",
       "      <th>4</th>\n",
       "      <td>Luxury Suites Amsterdam</td>\n",
       "      <td>9.3</td>\n",
       "      <td>Oudeschans 75 Amsterdam City Center 1011 KW Am...</td>\n",
       "    </tr>\n",
       "  </tbody>\n",
       "</table>\n",
       "</div>"
      ],
      "text/plain": [
       "                              Hotel_Name  Average_Score  \\\n",
       "0              Waldorf Astoria Amsterdam            9.5   \n",
       "1                              The Toren            9.4   \n",
       "2  Pillows Anna van den Vondel Amsterdam            9.4   \n",
       "3                            Canal House            9.3   \n",
       "4                Luxury Suites Amsterdam            9.3   \n",
       "\n",
       "                                       Hotel_Address  \n",
       "0  Herengracht 542 556 Amsterdam City Center 1017...  \n",
       "1  Keizersgracht 164 Amsterdam City Center 1015 C...  \n",
       "2  Anna van den Vondelstraat 6 Oud West 1054 GZ A...  \n",
       "3  Keizersgracht 148 Amsterdam City Center 1015 C...  \n",
       "4  Oudeschans 75 Amsterdam City Center 1011 KW Am...  "
      ]
     },
     "execution_count": 8,
     "metadata": {},
     "output_type": "execute_result"
    }
   ],
   "source": [
    "recommend_hotel('Netherlands' , 'just a business trip')"
   ]
  },
  {
   "cell_type": "code",
   "execution_count": null,
   "id": "890fe364",
   "metadata": {},
   "outputs": [],
   "source": []
  },
  {
   "cell_type": "markdown",
   "id": "85924be6",
   "metadata": {},
   "source": [
    "Definition of the enhanced hotel recommendation function using advanced text processing."
   ]
  },
  {
   "cell_type": "code",
   "execution_count": 9,
   "id": "c7124f13",
   "metadata": {},
   "outputs": [],
   "source": [
    "\n",
    "def enhanced_recommend_hotel(location, description):\n",
    "    description = description.lower()\n",
    "    tokens = word_tokenize(description)\n",
    "    \n",
    "    tfidf_vectorizer = TfidfVectorizer()\n",
    "    tfidf_matrix = tfidf_vectorizer.fit_transform([description] + df['Positive_Review'].tolist())\n",
    "    \n",
    "    cosine_similarities = cosine_similarity(tfidf_matrix[0:1], tfidf_matrix[1:]).flatten()\n",
    "    \n",
    "    top_indices = cosine_similarities.argsort()[-5:][::-1]\n",
    "    recommended_hotels = df.iloc[top_indices]\n",
    "    \n",
    "    return recommended_hotels[['Hotel_Name', 'Hotel_Address', 'Average_Score']]\n"
   ]
  },
  {
   "cell_type": "markdown",
   "id": "bfb85fc8",
   "metadata": {},
   "source": [
    "Example usage of the enhanced recommendation function."
   ]
  },
  {
   "cell_type": "code",
   "execution_count": 10,
   "id": "68bf5ade",
   "metadata": {
    "scrolled": true
   },
   "outputs": [
    {
     "data": {
      "text/html": [
       "<div>\n",
       "<style scoped>\n",
       "    .dataframe tbody tr th:only-of-type {\n",
       "        vertical-align: middle;\n",
       "    }\n",
       "\n",
       "    .dataframe tbody tr th {\n",
       "        vertical-align: top;\n",
       "    }\n",
       "\n",
       "    .dataframe thead th {\n",
       "        text-align: right;\n",
       "    }\n",
       "</style>\n",
       "<table border=\"1\" class=\"dataframe\">\n",
       "  <thead>\n",
       "    <tr style=\"text-align: right;\">\n",
       "      <th></th>\n",
       "      <th>Hotel_Name</th>\n",
       "      <th>Hotel_Address</th>\n",
       "      <th>Average_Score</th>\n",
       "    </tr>\n",
       "  </thead>\n",
       "  <tbody>\n",
       "    <tr>\n",
       "      <th>364178</th>\n",
       "      <td>Corus Hotel Hyde Park</td>\n",
       "      <td>Lancaster Gate Westminster Borough London W2 3...</td>\n",
       "      <td>7.6</td>\n",
       "    </tr>\n",
       "    <tr>\n",
       "      <th>277072</th>\n",
       "      <td>Novotel Barcelona City</td>\n",
       "      <td>Avenida Diagonal 201 Sant Mart 08018 Barcelona...</td>\n",
       "      <td>8.4</td>\n",
       "    </tr>\n",
       "    <tr>\n",
       "      <th>20309</th>\n",
       "      <td>The Ampersand Hotel</td>\n",
       "      <td>10 Harrington Road Kensington and Chelsea Lond...</td>\n",
       "      <td>9.1</td>\n",
       "    </tr>\n",
       "    <tr>\n",
       "      <th>255810</th>\n",
       "      <td>Best Western Plus Seraphine Hammersmith Hotel</td>\n",
       "      <td>84 King Street Hammersmith and Fulham London W...</td>\n",
       "      <td>7.8</td>\n",
       "    </tr>\n",
       "    <tr>\n",
       "      <th>110988</th>\n",
       "      <td>Radisson Blu Portman Hotel London</td>\n",
       "      <td>22 Portman Square Westminster Borough London W...</td>\n",
       "      <td>7.9</td>\n",
       "    </tr>\n",
       "  </tbody>\n",
       "</table>\n",
       "</div>"
      ],
      "text/plain": [
       "                                           Hotel_Name  \\\n",
       "364178                          Corus Hotel Hyde Park   \n",
       "277072                         Novotel Barcelona City   \n",
       "20309                             The Ampersand Hotel   \n",
       "255810  Best Western Plus Seraphine Hammersmith Hotel   \n",
       "110988              Radisson Blu Portman Hotel London   \n",
       "\n",
       "                                            Hotel_Address  Average_Score  \n",
       "364178  Lancaster Gate Westminster Borough London W2 3...            7.6  \n",
       "277072  Avenida Diagonal 201 Sant Mart 08018 Barcelona...            8.4  \n",
       "20309   10 Harrington Road Kensington and Chelsea Lond...            9.1  \n",
       "255810  84 King Street Hammersmith and Fulham London W...            7.8  \n",
       "110988  22 Portman Square Westminster Borough London W...            7.9  "
      ]
     },
     "execution_count": 10,
     "metadata": {},
     "output_type": "execute_result"
    }
   ],
   "source": [
    "enhanced_recommend_hotel('Netherlands' , 'just a business trip')"
   ]
  },
  {
   "cell_type": "markdown",
   "id": "0158bc16",
   "metadata": {},
   "source": [
    "# Interactive Widget"
   ]
  },
  {
   "cell_type": "code",
   "execution_count": 11,
   "id": "adbaa2f9",
   "metadata": {
    "scrolled": true
   },
   "outputs": [
    {
     "data": {
      "application/vnd.jupyter.widget-view+json": {
       "model_id": "d0303a6d3ac646d1aa255f2ab0d55b8f",
       "version_major": 2,
       "version_minor": 0
      },
      "text/plain": [
       "Dropdown(description='Location:', options=('Netherlands', 'United Kingdom', 'France', 'Germany', 'Italy'), val…"
      ]
     },
     "metadata": {},
     "output_type": "display_data"
    },
    {
     "data": {
      "application/vnd.jupyter.widget-view+json": {
       "model_id": "b5f7c1a5fe014cf8853dfcd559931288",
       "version_major": 2,
       "version_minor": 0
      },
      "text/plain": [
       "Textarea(value='', description='Description:', placeholder='Describe what you are looking for in a hotel')"
      ]
     },
     "metadata": {},
     "output_type": "display_data"
    },
    {
     "data": {
      "application/vnd.jupyter.widget-view+json": {
       "model_id": "5568d428ecc747129aaa72f3a7b7c8b8",
       "version_major": 2,
       "version_minor": 0
      },
      "text/plain": [
       "Button(button_style='success', description='Find Hotels', icon='check', style=ButtonStyle(), tooltip='Click to…"
      ]
     },
     "metadata": {},
     "output_type": "display_data"
    },
    {
     "data": {
      "application/vnd.jupyter.widget-view+json": {
       "model_id": "00f615c37aff47979c0d8553d75d213e",
       "version_major": 2,
       "version_minor": 0
      },
      "text/plain": [
       "Output()"
      ]
     },
     "metadata": {},
     "output_type": "display_data"
    }
   ],
   "source": [
    "import ipywidgets as widgets\n",
    "from IPython.display import display, clear_output\n",
    "import time \n",
    "\n",
    "\n",
    "available_locations = ['Netherlands', 'United Kingdom', 'France', 'Germany', 'Italy']\n",
    "\n",
    "\n",
    "location_input = widgets.Dropdown(\n",
    "    options=available_locations,\n",
    "    value='Netherlands', \n",
    "    description='Location:',\n",
    "    disabled=False,\n",
    ")\n",
    "\n",
    "\n",
    "description_input = widgets.Textarea(\n",
    "    value='',\n",
    "    description='Description:',\n",
    "    placeholder='Describe what you are looking for in a hotel'\n",
    ")\n",
    "\n",
    "\n",
    "display(location_input, description_input)\n",
    "\n",
    "\n",
    "submit_button = widgets.Button(\n",
    "    description='Find Hotels',\n",
    "    button_style='success',\n",
    "    tooltip='Click to get hotel recommendations',\n",
    "    icon='check'\n",
    ")\n",
    "display(submit_button)\n",
    "\n",
    "\n",
    "output = widgets.Output()\n",
    "display(output)\n",
    "\n",
    "\n",
    "def on_submit_button_clicked(b):\n",
    "    with output:\n",
    "        clear_output(wait=True)\n",
    "        print(\"Loading recommendations... Please wait.\")\n",
    "        \n",
    "    \n",
    "    time.sleep(1)  \n",
    "    \n",
    "    \n",
    "    location = location_input.value\n",
    "    description = description_input.value\n",
    "    \n",
    "    \n",
    "    if location and description:\n",
    "        recommended_hotels = enhanced_recommend_hotel(location, description)\n",
    "        with output:\n",
    "            clear_output(wait=True)\n",
    "            display(recommended_hotels)\n",
    "    else:\n",
    "        with output:\n",
    "            clear_output(wait=True)\n",
    "            print(\"Please enter both a location and a description.\")\n",
    "\n",
    "\n",
    "submit_button.on_click(on_submit_button_clicked)\n"
   ]
  },
  {
   "cell_type": "code",
   "execution_count": null,
   "id": "8c9dd353",
   "metadata": {},
   "outputs": [],
   "source": []
  }
 ],
 "metadata": {
  "kernelspec": {
   "display_name": "Python 3 (ipykernel)",
   "language": "python",
   "name": "python3"
  },
  "language_info": {
   "codemirror_mode": {
    "name": "ipython",
    "version": 3
   },
   "file_extension": ".py",
   "mimetype": "text/x-python",
   "name": "python",
   "nbconvert_exporter": "python",
   "pygments_lexer": "ipython3",
   "version": "3.11.5"
  }
 },
 "nbformat": 4,
 "nbformat_minor": 5
}
